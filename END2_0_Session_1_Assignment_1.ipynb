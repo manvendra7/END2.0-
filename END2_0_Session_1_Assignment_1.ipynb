{
  "nbformat": 4,
  "nbformat_minor": 0,
  "metadata": {
    "colab": {
      "name": "END2.0 Session 1-Assignment 1.ipynb",
      "provenance": [],
      "collapsed_sections": [],
      "include_colab_link": true
    },
    "kernelspec": {
      "name": "python3",
      "display_name": "Python 3"
    },
    "language_info": {
      "name": "python"
    }
  },
  "cells": [
    {
      "cell_type": "markdown",
      "metadata": {
        "id": "view-in-github",
        "colab_type": "text"
      },
      "source": [
        "<a href=\"https://colab.research.google.com/github/siddjain24/END2.0-Assignment1/blob/main/END2_0_Session_1_Assignment_1.ipynb\" target=\"_parent\"><img src=\"https://colab.research.google.com/assets/colab-badge.svg\" alt=\"Open In Colab\"/></a>"
      ]
    },
    {
      "cell_type": "markdown",
      "metadata": {
        "id": "e-imU4G6fp9R"
      },
      "source": [
        "\n",
        "\n",
        "**Importing all the packages**\n",
        "\n",
        "\n",
        "\n"
      ]
    },
    {
      "cell_type": "code",
      "metadata": {
        "colab": {
          "base_uri": "https://localhost:8080/"
        },
        "id": "GC_6PeobwwkH",
        "outputId": "9c595d14-6a9d-4d1d-a3f9-9167d659da30"
      },
      "source": [
        "import torch\n",
        "from torch.autograd import Variable\n",
        "import torch.nn as nn\n",
        "import torch.nn.functional as F\n",
        "import torch.optim as optim\n",
        "import numpy as np\n",
        "import matplotlib.pyplot as plt\n",
        "%matplotlib inline\n",
        "torch.manual_seed(2)"
      ],
      "execution_count": 1,
      "outputs": [
        {
          "output_type": "execute_result",
          "data": {
            "text/plain": [
              "<torch._C.Generator at 0x7f4fa0f04510>"
            ]
          },
          "metadata": {
            "tags": []
          },
          "execution_count": 1
        }
      ]
    },
    {
      "cell_type": "code",
      "metadata": {
        "id": "bL64bMTkw2GP"
      },
      "source": [
        "## Creating data\n",
        "X = torch.Tensor([[0,0], [0,1], [1,0], [1,1]])\n",
        "Y = torch.Tensor([0, 1, 1, 0]).view(-1,1)"
      ],
      "execution_count": 2,
      "outputs": []
    },
    {
      "cell_type": "code",
      "metadata": {
        "id": "aC82kEAIw3Wf"
      },
      "source": [
        "## A class defing the architecture - Overall 44 parameters\n",
        "class XOR(nn.Module):\n",
        "    def __init__(self, input_dim = 2, output_dim=1):\n",
        "        super(XOR, self).__init__()\n",
        "        self.lin1 = nn.Linear(input_dim, 5) # 1st Layer with 2 inputs and 5 neurons in output\n",
        "        self.lin2 = nn.Linear(5, 4) # 2nd Layer with 5 inputs and 4 neurons in output\n",
        "        self.lin3 = nn.Linear(4, output_dim) # Output Layer with 4 inputs and 1 neurons in output\n",
        "    \n",
        "    def forward(self, x):\n",
        "        x = self.lin1(x)\n",
        "        x = F.tanh(x)\n",
        "        x = self.lin2(x)\n",
        "        x = F.tanh(x)\n",
        "        x = self.lin3(x)\n",
        "        #x = F.tanh(x)\n",
        "        return x"
      ],
      "execution_count": 3,
      "outputs": []
    },
    {
      "cell_type": "code",
      "metadata": {
        "colab": {
          "base_uri": "https://localhost:8080/"
        },
        "id": "8gQIQExYw65K",
        "outputId": "b6f54d8d-4386-4e88-cc58-6317584f3e60"
      },
      "source": [
        "## Assigning the model and getting parameters summary\n",
        "model = XOR()\n",
        "print(model)\n",
        "from torchsummary import summary\n",
        "summary(model, (2,2))"
      ],
      "execution_count": 4,
      "outputs": [
        {
          "output_type": "stream",
          "text": [
            "XOR(\n",
            "  (lin1): Linear(in_features=2, out_features=5, bias=True)\n",
            "  (lin2): Linear(in_features=5, out_features=4, bias=True)\n",
            "  (lin3): Linear(in_features=4, out_features=1, bias=True)\n",
            ")\n",
            "----------------------------------------------------------------\n",
            "        Layer (type)               Output Shape         Param #\n",
            "================================================================\n",
            "            Linear-1                 [-1, 2, 5]              15\n",
            "            Linear-2                 [-1, 2, 4]              24\n",
            "            Linear-3                 [-1, 2, 1]               5\n",
            "================================================================\n",
            "Total params: 44\n",
            "Trainable params: 44\n",
            "Non-trainable params: 0\n",
            "----------------------------------------------------------------\n",
            "Input size (MB): 0.00\n",
            "Forward/backward pass size (MB): 0.00\n",
            "Params size (MB): 0.00\n",
            "Estimated Total Size (MB): 0.00\n",
            "----------------------------------------------------------------\n"
          ],
          "name": "stdout"
        },
        {
          "output_type": "stream",
          "text": [
            "/usr/local/lib/python3.7/dist-packages/torch/nn/functional.py:1698: UserWarning: nn.functional.tanh is deprecated. Use torch.tanh instead.\n",
            "  warnings.warn(\"nn.functional.tanh is deprecated. Use torch.tanh instead.\")\n"
          ],
          "name": "stderr"
        }
      ]
    },
    {
      "cell_type": "code",
      "metadata": {
        "id": "yeotEq19x6XF"
      },
      "source": [
        "# Function for weight initialization from normal distribution\n",
        "def weights_init(model):\n",
        "    for m in model.modules():\n",
        "        if isinstance(m, nn.Linear):\n",
        "            # initialize the weight tensor, here we use a normal distribution\n",
        "            m.weight.data.normal_(0, 1)\n",
        "\n",
        "weights_init(model)"
      ],
      "execution_count": 5,
      "outputs": []
    },
    {
      "cell_type": "code",
      "metadata": {
        "id": "WrD_sNzLx78e"
      },
      "source": [
        "## Defining loss function\n",
        "loss_func = nn.L1Loss()"
      ],
      "execution_count": 6,
      "outputs": []
    },
    {
      "cell_type": "code",
      "metadata": {
        "id": "-zvbrMd2x_lA"
      },
      "source": [
        "## Defining optimizer\n",
        "optimizer = optim.SGD(model.parameters(), lr=0.02, momentum=0.9)\n"
      ],
      "execution_count": 7,
      "outputs": []
    },
    {
      "cell_type": "code",
      "metadata": {
        "colab": {
          "base_uri": "https://localhost:8080/"
        },
        "id": "q7tWa3D7yA5X",
        "outputId": "19750486-7067-4330-e3f4-07ffab19b281"
      },
      "source": [
        "epochs = 2001 #number of epochs\n",
        "steps = X.size(0)\n",
        "# A loop to train the model with given number of epochs\n",
        "for i in range(epochs):\n",
        "    for j in range(steps):\n",
        "        data_point = np.random.randint(X.size(0))\n",
        "        x_var = Variable(X[data_point], requires_grad=False)\n",
        "        y_var = Variable(Y[data_point], requires_grad=False)\n",
        "        \n",
        "        optimizer.zero_grad()\n",
        "        y_hat = model(x_var)\n",
        "        loss = loss_func.forward(y_hat, y_var)\n",
        "        loss.backward()\n",
        "        optimizer.step()\n",
        "        \n",
        "    if i % 50 == 0:\n",
        "        print( \"Epoch: {0}, Loss: {1}, \".format(i, loss.data.numpy()))"
      ],
      "execution_count": 8,
      "outputs": [
        {
          "output_type": "stream",
          "text": [
            "/usr/local/lib/python3.7/dist-packages/torch/nn/functional.py:1698: UserWarning: nn.functional.tanh is deprecated. Use torch.tanh instead.\n",
            "  warnings.warn(\"nn.functional.tanh is deprecated. Use torch.tanh instead.\")\n"
          ],
          "name": "stderr"
        },
        {
          "output_type": "stream",
          "text": [
            "Epoch: 0, Loss: 1.735630989074707, \n",
            "Epoch: 50, Loss: 0.1106727123260498, \n",
            "Epoch: 100, Loss: 0.1833353042602539, \n",
            "Epoch: 150, Loss: 0.038135647773742676, \n",
            "Epoch: 200, Loss: 0.24226516485214233, \n",
            "Epoch: 250, Loss: 0.4193239212036133, \n",
            "Epoch: 300, Loss: 0.40910178422927856, \n",
            "Epoch: 350, Loss: 0.5769209861755371, \n",
            "Epoch: 400, Loss: 0.09802889823913574, \n",
            "Epoch: 450, Loss: 0.01703810691833496, \n",
            "Epoch: 500, Loss: 0.06566441059112549, \n",
            "Epoch: 550, Loss: 0.43437695503234863, \n",
            "Epoch: 600, Loss: 0.022252798080444336, \n",
            "Epoch: 650, Loss: 0.2966576814651489, \n",
            "Epoch: 700, Loss: 0.2174224853515625, \n",
            "Epoch: 750, Loss: 0.3131195902824402, \n",
            "Epoch: 800, Loss: 0.3940088152885437, \n",
            "Epoch: 850, Loss: 0.034488677978515625, \n",
            "Epoch: 900, Loss: 0.35155147314071655, \n",
            "Epoch: 950, Loss: 0.1305949091911316, \n",
            "Epoch: 1000, Loss: 0.0016338825225830078, \n",
            "Epoch: 1050, Loss: 0.05639827251434326, \n",
            "Epoch: 1100, Loss: 0.3428255319595337, \n",
            "Epoch: 1150, Loss: 0.09052777290344238, \n",
            "Epoch: 1200, Loss: 0.5935041904449463, \n",
            "Epoch: 1250, Loss: 0.02666795253753662, \n",
            "Epoch: 1300, Loss: 0.1314178705215454, \n",
            "Epoch: 1350, Loss: 0.12257492542266846, \n",
            "Epoch: 1400, Loss: 0.07390868663787842, \n",
            "Epoch: 1450, Loss: 0.09211742877960205, \n",
            "Epoch: 1500, Loss: 0.06049978733062744, \n",
            "Epoch: 1550, Loss: 0.47440338134765625, \n",
            "Epoch: 1600, Loss: 0.07215702533721924, \n",
            "Epoch: 1650, Loss: 0.17835456132888794, \n",
            "Epoch: 1700, Loss: 0.23820269107818604, \n",
            "Epoch: 1750, Loss: 0.006652712821960449, \n",
            "Epoch: 1800, Loss: 0.09750235080718994, \n",
            "Epoch: 1850, Loss: 0.14067625999450684, \n",
            "Epoch: 1900, Loss: 0.10578000545501709, \n",
            "Epoch: 1950, Loss: 0.19833648204803467, \n",
            "Epoch: 2000, Loss: 0.062191009521484375, \n"
          ],
          "name": "stdout"
        }
      ]
    },
    {
      "cell_type": "code",
      "metadata": {
        "id": "QV0dIdveyCRi"
      },
      "source": [
        ""
      ],
      "execution_count": 8,
      "outputs": []
    }
  ]
}