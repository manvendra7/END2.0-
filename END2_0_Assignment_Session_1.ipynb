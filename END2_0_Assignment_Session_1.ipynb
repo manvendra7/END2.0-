{
  "nbformat": 4,
  "nbformat_minor": 0,
  "metadata": {
    "colab": {
      "name": " END2.0 Assignment - Session 1.ipynb",
      "provenance": [],
      "include_colab_link": true
    },
    "kernelspec": {
      "name": "python3",
      "display_name": "Python 3"
    },
    "language_info": {
      "name": "python"
    }
  },
  "cells": [
    {
      "cell_type": "markdown",
      "metadata": {
        "id": "view-in-github",
        "colab_type": "text"
      },
      "source": [
        "<a href=\"https://colab.research.google.com/github/manvendra7/END2.0-Assignment1/blob/main/END2_0_Assignment_Session_1.ipynb\" target=\"_parent\"><img src=\"https://colab.research.google.com/assets/colab-badge.svg\" alt=\"Open In Colab\"/></a>"
      ]
    },
    {
      "cell_type": "code",
      "metadata": {
        "colab": {
          "base_uri": "https://localhost:8080/"
        },
        "id": "GC_6PeobwwkH",
        "outputId": "631376cb-9fd6-47a8-fe9f-399652ae6b22"
      },
      "source": [
        "import torch\n",
        "from torch.autograd import Variable\n",
        "import torch.nn as nn\n",
        "import torch.nn.functional as F\n",
        "import torch.optim as optim\n",
        "import numpy as np\n",
        "import matplotlib.pyplot as plt\n",
        "%matplotlib inline\n",
        "torch.manual_seed(2)"
      ],
      "execution_count": 1,
      "outputs": [
        {
          "output_type": "execute_result",
          "data": {
            "text/plain": [
              "<torch._C.Generator at 0x7f85116fa8d0>"
            ]
          },
          "metadata": {
            "tags": []
          },
          "execution_count": 1
        }
      ]
    },
    {
      "cell_type": "code",
      "metadata": {
        "id": "bL64bMTkw2GP"
      },
      "source": [
        "## Creating data\n",
        "X = torch.Tensor([[0,0], [0,1], [1,0], [1,1]])\n",
        "Y = torch.Tensor([0, 1, 1, 0]).view(-1,1)"
      ],
      "execution_count": 2,
      "outputs": []
    },
    {
      "cell_type": "code",
      "metadata": {
        "id": "aC82kEAIw3Wf"
      },
      "source": [
        "## A class defing the architecture - Overall 44 parameters\n",
        "class XOR(nn.Module):\n",
        "    def __init__(self, input_dim = 2, output_dim=1):\n",
        "        super(XOR, self).__init__()\n",
        "        self.lin1 = nn.Linear(input_dim, 5) # 1st Layer with 2 inputs and 5 neurons in output\n",
        "        self.lin2 = nn.Linear(5, 4) # 2nd Layer with 5 inputs and 4 neurons in output\n",
        "        self.lin3 = nn.Linear(4, output_dim) # Output Layer with 4 inputs and 1 neurons in output\n",
        "    \n",
        "    def forward(self, x):  #forward pass\n",
        "        x = self.lin1(x)\n",
        "        x = F.tanh(x)\n",
        "        x = self.lin2(x)\n",
        "        x = F.tanh(x)\n",
        "        x = self.lin3(x)\n",
        "        #x = F.tanh(x)\n",
        "        return x"
      ],
      "execution_count": 3,
      "outputs": []
    },
    {
      "cell_type": "code",
      "metadata": {
        "colab": {
          "base_uri": "https://localhost:8080/"
        },
        "id": "8gQIQExYw65K",
        "outputId": "157534b6-3956-4f3b-bf68-73de7787a7a9"
      },
      "source": [
        "## Assigning the model and getting parameters summary\n",
        "model = XOR()\n",
        "print(model)\n",
        "from torchsummary import summary\n",
        "summary(model, (2,2))"
      ],
      "execution_count": 4,
      "outputs": [
        {
          "output_type": "stream",
          "text": [
            "XOR(\n",
            "  (lin1): Linear(in_features=2, out_features=5, bias=True)\n",
            "  (lin2): Linear(in_features=5, out_features=4, bias=True)\n",
            "  (lin3): Linear(in_features=4, out_features=1, bias=True)\n",
            ")\n",
            "----------------------------------------------------------------\n",
            "        Layer (type)               Output Shape         Param #\n",
            "================================================================\n",
            "            Linear-1                 [-1, 2, 5]              15\n",
            "            Linear-2                 [-1, 2, 4]              24\n",
            "            Linear-3                 [-1, 2, 1]               5\n",
            "================================================================\n",
            "Total params: 44\n",
            "Trainable params: 44\n",
            "Non-trainable params: 0\n",
            "----------------------------------------------------------------\n",
            "Input size (MB): 0.00\n",
            "Forward/backward pass size (MB): 0.00\n",
            "Params size (MB): 0.00\n",
            "Estimated Total Size (MB): 0.00\n",
            "----------------------------------------------------------------\n"
          ],
          "name": "stdout"
        },
        {
          "output_type": "stream",
          "text": [
            "/usr/local/lib/python3.7/dist-packages/torch/nn/functional.py:1698: UserWarning: nn.functional.tanh is deprecated. Use torch.tanh instead.\n",
            "  warnings.warn(\"nn.functional.tanh is deprecated. Use torch.tanh instead.\")\n"
          ],
          "name": "stderr"
        }
      ]
    },
    {
      "cell_type": "code",
      "metadata": {
        "id": "yeotEq19x6XF"
      },
      "source": [
        "# Function for weight initialization from normal distribution\n",
        "def weights_init(model):\n",
        "    for m in model.modules():\n",
        "        if isinstance(m, nn.Linear):\n",
        "            # initialize the weight tensor, here we use a normal distribution\n",
        "            m.weight.data.normal_(0, 1)\n",
        "\n",
        "weights_init(model)"
      ],
      "execution_count": 5,
      "outputs": []
    },
    {
      "cell_type": "code",
      "metadata": {
        "id": "WrD_sNzLx78e"
      },
      "source": [
        "## Defining loss function\n",
        "loss_func = nn.L1Loss()"
      ],
      "execution_count": 6,
      "outputs": []
    },
    {
      "cell_type": "code",
      "metadata": {
        "id": "-zvbrMd2x_lA"
      },
      "source": [
        "## Defining optimizer\n",
        "optimizer = optim.SGD(model.parameters(), lr=0.02, momentum=0.9)"
      ],
      "execution_count": 7,
      "outputs": []
    },
    {
      "cell_type": "code",
      "metadata": {
        "colab": {
          "base_uri": "https://localhost:8080/"
        },
        "id": "q7tWa3D7yA5X",
        "outputId": "4b48a5ab-4854-421e-bdfa-89701c8e375b"
      },
      "source": [
        "epochs = 2001 #number of epochs\n",
        "steps = X.size(0)\n",
        "# A loop to train the model with given number of epochs\n",
        "for i in range(epochs):\n",
        "    for j in range(steps):\n",
        "        data_point = np.random.randint(X.size(0))\n",
        "        x_var = Variable(X[data_point], requires_grad=False)\n",
        "        y_var = Variable(Y[data_point], requires_grad=False)\n",
        "        \n",
        "        optimizer.zero_grad()\n",
        "        y_hat = model(x_var)\n",
        "        loss = loss_func.forward(y_hat, y_var)\n",
        "        loss.backward()\n",
        "        optimizer.step()\n",
        "        \n",
        "    if i % 50 == 0:\n",
        "        print( \"Epoch: {0}, Loss: {1}, \".format(i, loss.data.numpy()))"
      ],
      "execution_count": 8,
      "outputs": [
        {
          "output_type": "stream",
          "text": [
            "/usr/local/lib/python3.7/dist-packages/torch/nn/functional.py:1698: UserWarning: nn.functional.tanh is deprecated. Use torch.tanh instead.\n",
            "  warnings.warn(\"nn.functional.tanh is deprecated. Use torch.tanh instead.\")\n"
          ],
          "name": "stderr"
        },
        {
          "output_type": "stream",
          "text": [
            "Epoch: 0, Loss: 0.5166086554527283, \n",
            "Epoch: 50, Loss: 0.43215179443359375, \n",
            "Epoch: 100, Loss: 0.17035484313964844, \n",
            "Epoch: 150, Loss: 0.2746608257293701, \n",
            "Epoch: 200, Loss: 0.127812922000885, \n",
            "Epoch: 250, Loss: 0.20431041717529297, \n",
            "Epoch: 300, Loss: 0.21049411594867706, \n",
            "Epoch: 350, Loss: 0.059487223625183105, \n",
            "Epoch: 400, Loss: 0.04974666237831116, \n",
            "Epoch: 450, Loss: 0.32859164476394653, \n",
            "Epoch: 500, Loss: 0.04935130476951599, \n",
            "Epoch: 550, Loss: 0.11560860276222229, \n",
            "Epoch: 600, Loss: 0.06734240055084229, \n",
            "Epoch: 650, Loss: 0.0544513463973999, \n",
            "Epoch: 700, Loss: 0.07849454879760742, \n",
            "Epoch: 750, Loss: 0.19306302070617676, \n",
            "Epoch: 800, Loss: 0.056569527834653854, \n",
            "Epoch: 850, Loss: 0.3291432857513428, \n",
            "Epoch: 900, Loss: 0.3408069610595703, \n",
            "Epoch: 950, Loss: 0.15725022554397583, \n",
            "Epoch: 1000, Loss: 0.5002084970474243, \n",
            "Epoch: 1050, Loss: 0.08200715482234955, \n",
            "Epoch: 1100, Loss: 0.13118895888328552, \n",
            "Epoch: 1150, Loss: 0.15281403064727783, \n",
            "Epoch: 1200, Loss: 0.04743365943431854, \n",
            "Epoch: 1250, Loss: 0.16949036717414856, \n",
            "Epoch: 1300, Loss: 0.2944207191467285, \n",
            "Epoch: 1350, Loss: 0.15654289722442627, \n",
            "Epoch: 1400, Loss: 0.1621462106704712, \n",
            "Epoch: 1450, Loss: 0.12492501735687256, \n",
            "Epoch: 1500, Loss: 0.04855622351169586, \n",
            "Epoch: 1550, Loss: 0.3537957966327667, \n",
            "Epoch: 1600, Loss: 0.04562711715698242, \n",
            "Epoch: 1650, Loss: 0.4438377618789673, \n",
            "Epoch: 1700, Loss: 0.16593146324157715, \n",
            "Epoch: 1750, Loss: 0.008221641182899475, \n",
            "Epoch: 1800, Loss: 0.0040224045515060425, \n",
            "Epoch: 1850, Loss: 0.05529686063528061, \n",
            "Epoch: 1900, Loss: 0.30252671241760254, \n",
            "Epoch: 1950, Loss: 0.09635307639837265, \n",
            "Epoch: 2000, Loss: 0.16925477981567383, \n"
          ],
          "name": "stdout"
        }
      ]
    },
    {
      "cell_type": "code",
      "metadata": {
        "id": "QV0dIdveyCRi"
      },
      "source": [
        ""
      ],
      "execution_count": null,
      "outputs": []
    }
  ]
}